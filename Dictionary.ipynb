{
 "cells": [
  {
   "cell_type": "code",
   "execution_count": 10,
   "id": "e8fa8a19",
   "metadata": {},
   "outputs": [
    {
     "name": "stdout",
     "output_type": "stream",
     "text": [
      "Machine Encoder Mapping: {0: 'Ball Feeder', 1: 'Ball Placer', 2: 'Camera', 3: 'Cap Feeder', 4: 'Container Feeder', 5: 'Filler', 6: 'Inkjet', 7: 'Labeler', 8: 'Laser', 9: 'Moyno Pump', 10: 'Packer', 11: 'Pneumatic Pump', 12: 'Torqueing Machine', 13: 'Valve'}\n",
      "Line Encoder Mapping: {0: 'L33'}\n",
      "Stop Cause Description Encoder Mapping: {0: 'Electrical Maintenance', 1: 'Mechanical Maintenance', 2: 'No Failure'}\n",
      "Detail Encoder Mapping: {0: 'No Failure', 1: 'adjustment', 2: 'breakdown', 3: 'fuse', 4: 'micro stop', 5: 'minor adjustment', 6: 'no information', 7: 'not applicable'}\n"
     ]
    }
   ],
   "source": [
    "import pickle\n",
    "\n",
    "# Cargar los LabelEncoders\n",
    "with open('machine_encoder.pkl', 'rb') as f:\n",
    "    machine_encoder = pickle.load(f)\n",
    "\n",
    "with open('line_encoder.pkl', 'rb') as f:\n",
    "    line_encoder = pickle.load(f)\n",
    "\n",
    "with open('stop_cause_description_encoder.pkl', 'rb') as f:\n",
    "    stop_cause_description_encoder = pickle.load(f)\n",
    "\n",
    "with open('detail_encoder.pkl', 'rb') as f:\n",
    "    detail_encoder = pickle.load(f)\n",
    "\n",
    "# Mostrar los diccionarios de etiquetas\n",
    "machine_mapping = {index: label for index, label in enumerate(machine_encoder.classes_)}\n",
    "line_mapping = {index: label for index, label in enumerate(line_encoder.classes_)}\n",
    "stop_cause_description_mapping = {index: label for index, label in enumerate(stop_cause_description_encoder.classes_)}\n",
    "detail_mapping = {index: label for index, label in enumerate(detail_encoder.classes_)}\n",
    "\n",
    "print(\"Machine Encoder Mapping:\", machine_mapping)\n",
    "print(\"Line Encoder Mapping:\", line_mapping)\n",
    "print(\"Stop Cause Description Encoder Mapping:\", stop_cause_description_mapping)\n",
    "print(\"Detail Encoder Mapping:\", detail_mapping)"
   ]
  }
 ],
 "metadata": {
  "kernelspec": {
   "display_name": "Python 3 (ipykernel)",
   "language": "python",
   "name": "python3"
  },
  "language_info": {
   "codemirror_mode": {
    "name": "ipython",
    "version": 3
   },
   "file_extension": ".py",
   "mimetype": "text/x-python",
   "name": "python",
   "nbconvert_exporter": "python",
   "pygments_lexer": "ipython3",
   "version": "3.11.4"
  }
 },
 "nbformat": 4,
 "nbformat_minor": 5
}
